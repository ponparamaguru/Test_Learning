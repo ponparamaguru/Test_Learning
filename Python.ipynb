{
 "cells": [
  {
   "cell_type": "markdown",
   "id": "abe7107b",
   "metadata": {},
   "source": [
    "# Python Basics"
   ]
  },
  {
   "cell_type": "code",
   "execution_count": null,
   "id": "d81e6b6a",
   "metadata": {},
   "outputs": [],
   "source": [
    "language = 7\n",
    "print(\"Language %s: I am Python. What's for supper?\" % language)\n",
    "language = 7\n",
    "print(\"Language {a}: I am Python. What's for supper?\\n@ {b}\".format(a=language,b= language))\n",
    "print(f\"whats for supper @ {language}\")"
   ]
  },
  {
   "cell_type": "code",
   "execution_count": null,
   "id": "09104d77",
   "metadata": {},
   "outputs": [],
   "source": [
    "from timeit import timeit\n",
    "q = 4\n",
    "a = timeit(\"b = 2-3\")\n",
    "a = divmod(4.0,2)\n",
    "print(a)\n",
    "quo,rem = a[0],a[1]\n",
    "print(quo)"
   ]
  },
  {
   "cell_type": "code",
   "execution_count": null,
   "id": "3093ec91",
   "metadata": {},
   "outputs": [],
   "source": [
    "print(0b1111)"
   ]
  },
  {
   "cell_type": "code",
   "execution_count": null,
   "id": "0147ae05",
   "metadata": {},
   "outputs": [],
   "source": [
    "print('''llo 'world\n",
    "        This is \" triple quoted text\n",
    "    hello again!\n",
    "        we're just testing the quoted display''')"
   ]
  },
  {
   "cell_type": "code",
   "execution_count": null,
   "id": "a0f73459",
   "metadata": {},
   "outputs": [],
   "source": []
  },
  {
   "cell_type": "code",
   "execution_count": null,
   "id": "fef3914d",
   "metadata": {},
   "outputs": [],
   "source": [
    "crypto_list = ['Yeti', 'Bigfoot', 'Loch Ness Monster']\n",
    "crypto_string = ' '.join(crypto_list)\n",
    "print('Found and signing book deals:', crypto_string)"
   ]
  },
  {
   "cell_type": "code",
   "execution_count": null,
   "id": "c1721f94",
   "metadata": {},
   "outputs": [],
   "source": [
    "s = \"hello world this is guru world\"\n",
    "print(s.title())\n",
    "print(s.replace('world','universe',1))\n",
    "s = s.split()\n",
    "#s = sorted(s)\n",
    "s.sort()\n",
    "print(s)"
   ]
  },
  {
   "cell_type": "code",
   "execution_count": null,
   "id": "e29f6525",
   "metadata": {},
   "outputs": [],
   "source": [
    "num = int(input(\"Enter the number of hours: \"))\n",
    "print(f\"number of minutes in {num} is {num*60} and seconds is {num*(60**2)}\")"
   ]
  },
  {
   "cell_type": "code",
   "execution_count": null,
   "id": "6ceed9b4",
   "metadata": {},
   "outputs": [],
   "source": []
  },
  {
   "cell_type": "code",
   "execution_count": null,
   "id": "d14cc3f5",
   "metadata": {},
   "outputs": [],
   "source": [
    "days = int(input())\n",
    "year = 0\n",
    "month = 0\n",
    "week = 0\n",
    "day = 0\n",
    "while(days>0):\n",
    "    print(days)\n",
    "    if(days>365):\n",
    "        year += 1\n",
    "        days -= 365\n",
    "    elif(days>=30 and days<365):\n",
    "        month += 1\n",
    "        days -= 30\n",
    "    elif(days>7 and days<30):\n",
    "        week += 1\n",
    "        days -= 7\n",
    "    elif(days < 7):\n",
    "        day = days\n",
    "        days = 0\n",
    "print(f\"Total number of years : {year}\\n Months : {month}\\n weeks : {week}\\n days : {day}\")"
   ]
  },
  {
   "cell_type": "code",
   "execution_count": null,
   "id": "1069d54b",
   "metadata": {},
   "outputs": [],
   "source": []
  },
  {
   "cell_type": "code",
   "execution_count": null,
   "id": "930f81a6",
   "metadata": {},
   "outputs": [],
   "source": [
    "dob = \"12.03. 1964\"\n",
    "lis_dob = dob.split(\".\")\n",
    "print(lis_dob)\n",
    "age = 50\n",
    "gender = [\"Male\",age]\n",
    "lis_dob += gender\n",
    "print(lis_dob)"
   ]
  },
  {
   "cell_type": "code",
   "execution_count": null,
   "id": "f8f5096c",
   "metadata": {},
   "outputs": [],
   "source": [
    "tup = (1,2,3,4)\n",
    "tup = 4,6,7,8\n",
    "\n",
    "print(tup)"
   ]
  },
  {
   "cell_type": "code",
   "execution_count": null,
   "id": "01714a7a",
   "metadata": {},
   "outputs": [],
   "source": [
    "dictionary = {1:\"Apple\",2:\"Ball\"}\n",
    "print(type(dictionary[1]))"
   ]
  },
  {
   "cell_type": "code",
   "execution_count": null,
   "id": "6a31d104",
   "metadata": {},
   "outputs": [],
   "source": [
    "days = int(input())\n",
    "y = 0\n",
    "m = 0\n",
    "while(days > 0):\n",
    "    if((days%365)<365):\n",
    "        y += 1\n",
    "        days //= 365\n",
    "    elif((days%30)>0):\n",
    "        m += 1\n",
    "        days //= 30\n",
    "print(f\"The days can be\\n {y} : years\\n{m} : months\\n{days} : Days\")\n",
    "    "
   ]
  },
  {
   "cell_type": "code",
   "execution_count": null,
   "id": "8400384a",
   "metadata": {},
   "outputs": [],
   "source": [
    "num = int(input())\n",
    "print(num//365)\n",
    "print(divmod(num,365))"
   ]
  },
  {
   "cell_type": "code",
   "execution_count": null,
   "id": "28c91ce3",
   "metadata": {},
   "outputs": [],
   "source": [
    "days = int(input())\n",
    "yrs = 0\n",
    "months = 0\n",
    "day = 0\n",
    "while(days > 0):\n",
    "    yrs = days//365\n",
    "    days = days % 365\n",
    "    if(days>30):\n",
    "        months = days//30\n",
    "        days = days % 365\n",
    "    else:\n",
    "        day = days\n",
    "        days = 0\n",
    "print(days)\n",
    "print(f\"year:{yrs}\\n months:{months}\\n days:{day}\")\n",
    "    "
   ]
  },
  {
   "cell_type": "code",
   "execution_count": null,
   "id": "0c9484ad",
   "metadata": {},
   "outputs": [],
   "source": [
    "tri_lis = [[1,2],[4,5],[7,8]]\n",
    "tri_lis.insert(2,[3,4])\n",
    "print(tri_lis)\n",
    "tri_lislis = dict(tri_lis)\n",
    "print(tri_lislis)"
   ]
  },
  {
   "cell_type": "code",
   "execution_count": null,
   "id": "1562a0f3",
   "metadata": {},
   "outputs": [],
   "source": [
    "los = [ 'ab', 'cd', 'ef' ]\n",
    "los = dict(los)\n",
    "print(los.get('a'))\n",
    "keys = los.keys()\n",
    "print(los.values())\n",
    "print()\n"
   ]
  },
  {
   "cell_type": "code",
   "execution_count": null,
   "id": "360c9293",
   "metadata": {},
   "outputs": [],
   "source": [
    "lis = [1,2,3,4,4,3,7,8,8]\n",
    "lis = set(lis)\n",
    "print(lis)\n",
    "new_dict = {int(i) for i in input().split()}\n",
    "print(new_dict)\n",
    "str_dict = {'guru','Guru','GuRu','gUrU','guru'}\n",
    "print(str_dict)"
   ]
  },
  {
   "cell_type": "code",
   "execution_count": null,
   "id": "31bf6d3e",
   "metadata": {},
   "outputs": [],
   "source": [
    "drinks = {\n",
    "'martini': {'vodka', 'vermouth'},\n",
    "'black russian': {'vodka', 'kahlua'},\n",
    "'white russian': {'cream', 'kahlua', 'vodka'},\n",
    "'manhattan': {'rye', 'vermouth', 'bitters'},\n",
    "'screwdriver': {'orange juice', 'vodka'}\n",
    "}\n",
    "'''for key,val in drinks.items():\n",
    "    if('vodka' in val and key not in {'martini','black russian','screwdriver'} )\n",
    "         \n",
    "\n",
    "for name, contents in drinks.items():\n",
    "    if (contents & {'vermouth', 'orange juice'}):'''\n",
    "for i,j in drinks.items():\n",
    "    if(j & {'kahlua'}):\n",
    "        print(i)\n",
    "print(\"Guru\")\n",
    "print(drinks['martini'])\n",
    "print(drinks.get('black russian'))\n"
   ]
  },
  {
   "cell_type": "code",
   "execution_count": null,
   "id": "e530886a",
   "metadata": {},
   "outputs": [],
   "source": [
    "a = {1,2,3,4,5}\n",
    "b = {2,3,4,5}\n",
    "print(a.issuperset(b))\n",
    "print(b.issubset(a))\n",
    "print(a|b)\n",
    "print(a-b)\n",
    "print(a.symmetric_difference(b))\n",
    "print(a^b)\n",
    "print(a.union(b))"
   ]
  },
  {
   "cell_type": "code",
   "execution_count": null,
   "id": "71dadf36",
   "metadata": {},
   "outputs": [],
   "source": [
    "a = [1,2,3]\n",
    "b = [2,3,4]\n",
    "for i,j in zip(a,b):\n",
    "    print(\"value of A:\",i)\n",
    "    print(\"value of B:\",j)"
   ]
  },
  {
   "cell_type": "code",
   "execution_count": null,
   "id": "db4333c5",
   "metadata": {},
   "outputs": [],
   "source": [
    "while(1):\n",
    "    print(\"true\")\n",
    "    break\n",
    "    \n",
    "    "
   ]
  },
  {
   "cell_type": "code",
   "execution_count": null,
   "id": "fe1d1df7",
   "metadata": {},
   "outputs": [],
   "source": [
    "while True:\n",
    "    value = input(\"Integer, please [q to quit]: \")\n",
    "    if value == 'q': # quit\n",
    "        break\n",
    "    number = int(value)\n",
    "    if number % 2 == 0: # an even number\n",
    "        continue\n",
    "    print(number, \"squared is\", number*number)"
   ]
  },
  {
   "cell_type": "code",
   "execution_count": null,
   "id": "bff9fb12",
   "metadata": {},
   "outputs": [],
   "source": [
    "lis1 = [1,2,3]\n",
    "lis2 = ['a','b','c']\n",
    "lis3 = ['index 0','index 1','index 2']\n",
    "for in1,in2,in3 in zip(lis1,lis2,lis3):\n",
    "    print(in3,in2,in1,sep = \" : \")\n",
    "for i in range(-2,-1,-1):\n",
    "    print(lis1[i])"
   ]
  },
  {
   "cell_type": "code",
   "execution_count": null,
   "id": "327b66da",
   "metadata": {},
   "outputs": [],
   "source": [
    "for i in range(-1,-4,-1):\n",
    "    print(lis1[i])\n",
    "print(\"empty\")\n",
    "print(lis1[-1])"
   ]
  },
  {
   "cell_type": "code",
   "execution_count": null,
   "id": "d446c0c2",
   "metadata": {},
   "outputs": [],
   "source": [
    "lis = tuple(str(x) for x in input().split())"
   ]
  },
  {
   "cell_type": "code",
   "execution_count": null,
   "id": "e7efa53f",
   "metadata": {},
   "outputs": [],
   "source": [
    "comp = [i+j for i,j in zip(range(4),range(4,10,2))]"
   ]
  },
  {
   "cell_type": "code",
   "execution_count": null,
   "id": "382f9598",
   "metadata": {},
   "outputs": [],
   "source": [
    "print(comp)"
   ]
  },
  {
   "cell_type": "code",
   "execution_count": null,
   "id": "d5252236",
   "metadata": {},
   "outputs": [],
   "source": [
    "word = 'letters'\n",
    "letter_counts = {letter: word.count(letter) for letter in word}\n",
    "print(letter_countser_counts)"
   ]
  },
  {
   "cell_type": "code",
   "execution_count": null,
   "id": "6ed10f32",
   "metadata": {},
   "outputs": [],
   "source": [
    "drinks = {\n",
    "'martini': {'vodka', 'vermouth'},\n",
    "'black russian': {'vodka', 'kahlua'},\n",
    "'white russian': {'cream', 'kahlua', 'vodka'},\n",
    "'manhattan': {'rye', 'vermouth', 'bitters'},\n",
    "'screwdriver': {'orange juice', 'vodka'}\n",
    "}\n",
    "drinks_cnt = {drinkname: drinks.count(drinkname) for drinkname in drinks}\n",
    "print(drinks_cnt)"
   ]
  },
  {
   "cell_type": "code",
   "execution_count": null,
   "id": "2f957e17",
   "metadata": {},
   "outputs": [],
   "source": [
    "def _():\n",
    "    pass\n",
    "    print(\"_ function \")\n",
    "    return(None)\n",
    "_()"
   ]
  },
  {
   "cell_type": "code",
   "execution_count": null,
   "id": "5e25d7fd",
   "metadata": {},
   "outputs": [],
   "source": [
    "def course_selection(interest):\n",
    "    if(interest == 1):\n",
    "        return(\"Learn from Cisco\")\n",
    "    elif(interest == 2):\n",
    "        return(\"Learn HTML, CSS, Jscript\")\n",
    "    elif(interest == 3):\n",
    "        return(\"Learn Python\")\n",
    "    elif(interest == 4):\n",
    "        return(\"Smart Contracts\")\n",
    "    elif(interest == 5):\n",
    "        return(\"Learn CI/CD and Containerzation\")\n",
    "    \n",
    "i = 0\n",
    "while(i == 0):\n",
    "    print(\"choose your interest\")\n",
    "    print(\"1. Internet of Things\\\n",
    "       2. Web Development\\\n",
    "       3. AI/ML\\\n",
    "       4. Blockchain\\\n",
    "       5. Devops\")\n",
    "    interest = int(input())\n",
    "    print(course_selection(interest))\n",
    "    i = 1"
   ]
  },
  {
   "cell_type": "code",
   "execution_count": null,
   "id": "25464efb",
   "metadata": {},
   "outputs": [],
   "source": [
    "def menu(wine, entree, dessert):\n",
    "    return {'wine': wine, 'entree': entree, 'dessert': dessert}\n",
    "menudic = {'wine':\"Redwine\", \"Entree\":\"Soup/Broth\",\"Dessert\":\"Dates\"}\n",
    "menu(menudic['wine'],None,None)\n",
    "#'dessert': 'hi','wine': 'chardonnay', 'entree': 'chicken'}"
   ]
  },
  {
   "cell_type": "code",
   "execution_count": null,
   "id": "06583df3",
   "metadata": {},
   "outputs": [],
   "source": [
    "def menu(wine, entree, dessert='pudding'):\n",
    "     return {'wine': wine, 'entree': entree, 'dessert': dessert}\n",
    "menu('chardonnay', 'chicken','guru')\n",
    "{'dessert': 'pudding', 'wine': 'chardonnay', 'entree': 'chicken'}"
   ]
  },
  {
   "cell_type": "code",
   "execution_count": null,
   "id": "2a760d89",
   "metadata": {},
   "outputs": [],
   "source": [
    "def append_lis(item,lis = []):\n",
    "    lis.append(item)\n",
    "    return(lis)\n",
    "append_lis('b')\n",
    "print(append_lis('a'))"
   ]
  },
  {
   "cell_type": "code",
   "execution_count": null,
   "id": "ac8ebb71",
   "metadata": {},
   "outputs": [],
   "source": [
    "for i in range(10):\n",
    "    if(i % 2 == 0):\n",
    "        continue\n",
    "    print(i)\n",
    "odd_lis = [int(x) for x in range(0,10,1) if(x % 2 != 0)]\n",
    "print(odd_lis)"
   ]
  },
  {
   "cell_type": "code",
   "execution_count": null,
   "id": "fe0690df",
   "metadata": {},
   "outputs": [],
   "source": [
    "def docstring_example():\n",
    "    'This is an example of docstring'\n",
    "    return(\"Hey! Guru\")\n",
    "docstring_example()\n",
    "help(docstring_example)\n",
    "print(docstring_example.__doc__)"
   ]
  },
  {
   "cell_type": "code",
   "execution_count": null,
   "id": "fe9473cd",
   "metadata": {},
   "outputs": [],
   "source": [
    "def argument_example(static , dynamic= 0):\n",
    "    print(static)\n",
    "    print(dynamic)\n",
    "    return\n",
    "argument_example(2)\n"
   ]
  },
  {
   "cell_type": "code",
   "execution_count": null,
   "id": "128ee1ee",
   "metadata": {},
   "outputs": [],
   "source": [
    "def args_eg(*vals):\n",
    "    for items in vals:\n",
    "        #print(items**items)\n",
    "        print(items)\n",
    "    return\n",
    "args_eg(1,2,3,'Q')"
   ]
  },
  {
   "cell_type": "code",
   "execution_count": null,
   "id": "46a1b1bd",
   "metadata": {},
   "outputs": [],
   "source": [
    "def print_kwargs(**kwargs):\n",
    "    for key,val in kwargs.items():\n",
    "        print(key)\n",
    "dicy = {'wine':'merlot','entree':'mutton'}\n",
    "#print_kwargs('wine')\n",
    "print_kwargs(wine ='merlot', entree='mutton', dessert='macaroon')"
   ]
  },
  {
   "cell_type": "code",
   "execution_count": null,
   "id": "94bfbb3e",
   "metadata": {},
   "outputs": [],
   "source": [
    "def nothing():\n",
    "    print(\"Hello World\")\n",
    "def something(para):\n",
    "    para()\n",
    "    print(\"Inside Something\")\n",
    "\n",
    "something(nothing)"
   ]
  },
  {
   "cell_type": "code",
   "execution_count": null,
   "id": "e33524c1",
   "metadata": {},
   "outputs": [],
   "source": [
    "print('%.4f',(4))"
   ]
  },
  {
   "cell_type": "code",
   "execution_count": null,
   "id": "0b3881d6",
   "metadata": {},
   "outputs": [],
   "source": [
    "help(sort)"
   ]
  },
  {
   "cell_type": "raw",
   "id": "e45fe1d8",
   "metadata": {},
   "source": []
  },
  {
   "cell_type": "code",
   "execution_count": null,
   "id": "67dddb0c",
   "metadata": {},
   "outputs": [],
   "source": [
    "print(\"J\")"
   ]
  },
  {
   "cell_type": "code",
   "execution_count": null,
   "id": "dd33141a",
   "metadata": {},
   "outputs": [],
   "source": [
    "letters = \"HelloWorld\"\n",
    "lc = {letter : letters.count(letter) for letter in letters}\n",
    "print(lc)"
   ]
  },
  {
   "cell_type": "code",
   "execution_count": null,
   "id": "daa9be6b",
   "metadata": {},
   "outputs": [],
   "source": [
    "print(count.__doc__)"
   ]
  },
  {
   "cell_type": "code",
   "execution_count": null,
   "id": "fb59a1d0",
   "metadata": {},
   "outputs": [],
   "source": [
    "def knights(saying):\n",
    "    def inner():\n",
    "        return (\"We are the knights who say: '%s'\" % saying)\n",
    "    return inner()\n",
    "\n",
    "a = knights('Ni!')\n",
    "print(a)\n",
    "\n",
    "#\"We are the knights who say: 'Ni!'\""
   ]
  },
  {
   "cell_type": "code",
   "execution_count": null,
   "id": "4b1011a3",
   "metadata": {},
   "outputs": [],
   "source": [
    "def story_editor_lambda(lis_words,func):\n",
    "    for word in lis_words:\n",
    "        func(word)\n",
    "        \n",
    "        \n",
    "def new_func(word):\n",
    "    if(type(word) != int):\n",
    "        print(word.capitalize())\n",
    "    else:\n",
    "        print(word) \n",
    "    \n",
    "    return\n",
    "words = [\"hey\",\"Hello\",\"hii\",1]\n",
    "story_editor_lambda(words,new_func)"
   ]
  },
  {
   "cell_type": "code",
   "execution_count": null,
   "id": "97af8217",
   "metadata": {},
   "outputs": [],
   "source": [
    "def known_func(num,func):\n",
    "    lis = [int(x) for x in range(0,num+1,1)]\n",
    "    func(lis)\n",
    "\n",
    "def unknown_func(lis):\n",
    "    print(lis)\n",
    "\n",
    "known_func(10,unknown_func)"
   ]
  },
  {
   "cell_type": "code",
   "execution_count": null,
   "id": "66ef0352",
   "metadata": {},
   "outputs": [],
   "source": [
    "def document_it(func):\n",
    "     def new_function(*args, **kwargs):\n",
    "        print('Running function:', func.__name__)\n",
    "        print('Positional arguments:', args)\n",
    "        print('Keyword arguments:', kwargs)\n",
    "        result = func(*args, **kwargs)\n",
    "        print('Result:', result)\n",
    "        return result\n",
    "        return new_function\n",
    "def add(a, b):\n",
    "    return a+b\n",
    "print(add(2,3))\n",
    "print(document_it(add))"
   ]
  },
  {
   "cell_type": "code",
   "execution_count": null,
   "id": "d8e15367",
   "metadata": {},
   "outputs": [],
   "source": [
    "def var_func():\n",
    "    print(\"Hey\")\n",
    "a = var_func\n",
    "print(var_func)"
   ]
  },
  {
   "cell_type": "code",
   "execution_count": null,
   "id": "282d06fa",
   "metadata": {},
   "outputs": [],
   "source": [
    "open_var = 24\n",
    "def var_change(var):\n",
    "    open_var = var\n",
    "    open_var = 22\n",
    "    print(open_var)\n",
    "var_change(open_var)\n",
    "print(open_var)"
   ]
  },
  {
   "cell_type": "code",
   "execution_count": null,
   "id": "bfb68803",
   "metadata": {},
   "outputs": [],
   "source": [
    "print(f\"Hello {'Guru'}\")"
   ]
  },
  {
   "cell_type": "code",
   "execution_count": null,
   "id": "c709e373",
   "metadata": {},
   "outputs": [],
   "source": [
    "lis = [1,2,3]\n",
    "try:\n",
    "    lis[4] = 4\n",
    "except:\n",
    "    print(\"there is no such position\")\n",
    "\n",
    "print(lis)"
   ]
  },
  {
   "cell_type": "code",
   "execution_count": null,
   "id": "047a930e",
   "metadata": {},
   "outputs": [],
   "source": [
    "try:\n",
    "    print(lis[7])\n",
    "    print(2//0)\n",
    "except IndexError as ex:\n",
    "    print(ex)\n",
    "except Exception as others:\n",
    "    print(\"Divide by zero\")"
   ]
  },
  {
   "cell_type": "code",
   "execution_count": null,
   "id": "ad97cb19",
   "metadata": {},
   "outputs": [],
   "source": []
  },
  {
   "cell_type": "code",
   "execution_count": null,
   "id": "59635057",
   "metadata": {},
   "outputs": [],
   "source": [
    "var = 2\n",
    "def func():\n",
    "    print(var)\n",
    "    int_var = var\n",
    "    int_var = 4\n",
    "    print(int_var)\n",
    "func()"
   ]
  },
  {
   "cell_type": "code",
   "execution_count": 4,
   "id": "63ecbf6f",
   "metadata": {},
   "outputs": [
    {
     "name": "stdout",
     "output_type": "stream",
     "text": [
      "hiii\n"
     ]
    }
   ],
   "source": [
    "def outer(a):\n",
    "    print(\"hiii\")\n",
    "    def inner():\n",
    "        a = a+1\n",
    "        print(a)\n",
    "\n",
    "outer(2)\n",
    "#inner(1)"
   ]
  },
  {
   "cell_type": "code",
   "execution_count": 5,
   "id": "f94b6a64",
   "metadata": {},
   "outputs": [
    {
     "name": "stdout",
     "output_type": "stream",
     "text": [
      "C:\\Users\\Guru\\Machine Learning Hands On\n",
      "C:\\Users\\Guru\\anaconda3\\python38.zip\n",
      "C:\\Users\\Guru\\anaconda3\\DLLs\n",
      "C:\\Users\\Guru\\anaconda3\\lib\n",
      "C:\\Users\\Guru\\anaconda3\n",
      "\n",
      "C:\\Users\\Guru\\anaconda3\\lib\\site-packages\n",
      "C:\\Users\\Guru\\anaconda3\\lib\\site-packages\\locket-0.2.1-py3.8.egg\n",
      "C:\\Users\\Guru\\anaconda3\\lib\\site-packages\\win32\n",
      "C:\\Users\\Guru\\anaconda3\\lib\\site-packages\\win32\\lib\n",
      "C:\\Users\\Guru\\anaconda3\\lib\\site-packages\\Pythonwin\n",
      "C:\\Users\\Guru\\anaconda3\\lib\\site-packages\\IPython\\extensions\n",
      "C:\\Users\\Guru\\.ipython\n"
     ]
    }
   ],
   "source": [
    "import sys\n",
    "for i in sys.path:\n",
    "    print(i)"
   ]
  },
  {
   "cell_type": "code",
   "execution_count": null,
   "id": "9a7ada85",
   "metadata": {},
   "outputs": [],
   "source": []
  }
 ],
 "metadata": {
  "kernelspec": {
   "display_name": "Python 3",
   "language": "python",
   "name": "python3"
  },
  "language_info": {
   "codemirror_mode": {
    "name": "ipython",
    "version": 3
   },
   "file_extension": ".py",
   "mimetype": "text/x-python",
   "name": "python",
   "nbconvert_exporter": "python",
   "pygments_lexer": "ipython3",
   "version": "3.8.8"
  }
 },
 "nbformat": 4,
 "nbformat_minor": 5
}
